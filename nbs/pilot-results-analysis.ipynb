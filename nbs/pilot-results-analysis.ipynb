{
 "cells": [
  {
   "cell_type": "code",
   "execution_count": null,
   "metadata": {},
   "outputs": [
    {
     "name": "stdout",
     "output_type": "stream",
     "text": [
      "The autoreload extension is already loaded. To reload it, use:\n",
      "  %reload_ext autoreload\n"
     ]
    }
   ],
   "source": [
    "from nbdev.showdoc import *\n",
    "import numpy as np\n",
    "import scipy\n",
    "import sklearn\n",
    "from tqdm.notebook import trange, tqdm\n",
    "import matplotlib.pyplot as plt\n",
    "%load_ext autoreload\n",
    "%autoreload 2"
   ]
  },
  {
   "attachments": {},
   "cell_type": "markdown",
   "metadata": {},
   "source": [
    "# Pilot Results Analysis\n",
    "\n",
    "Our first study examined whether people can detect *metaphor schema* -- not, that is, explicitly spelled out analogies like \"our relationship has hit a dead end\", but the existence of *unspecified* \"mappings\" between pairs of concepts, like LOVE and A JOURNEY.\n",
    "\n",
    "60 participants recruited through Prolific collectively answered 600 questions comparing 40 pairs of concepts. 20 of the pairs were human generated to contain a metaphor. The remaining 20 were randomly generated. The basic question is: can people distinguish the randomly generated pairs from human generated pairs?"
   ]
  },
  {
   "attachments": {},
   "cell_type": "markdown",
   "metadata": {},
   "source": [
    "## Data Import\n",
    "We'll first examine the relationship between the *mean* score given to each mapping and whether it was human generated."
   ]
  },
  {
   "cell_type": "code",
   "execution_count": null,
   "metadata": {},
   "outputs": [],
   "source": [
    "#| hide\n",
    "raw_results = \"\"\"6.14285714285714\t6.4375\t1.14285714285714\t6\t7.33333333333333\t3.28571428571429\t3.33333333333333\t3.33333333333333\t3.33333333333333\t6.85714285714286\t2.66666666666667\t4.86666666666667\t3.92857142857143\t5.6875\t5.6\t4.23529411764706\t2\t6.73333333333333\t6\t2\t2.53333333333333\t3.4\t3.2\t4\t3.38461538461538\t8.8125\t8.14285714285714\t4.23076923076923\t0.8\t2.25\t2.53333333333333\t1.52941176470588\t5.73333333333333\t8.4\t2.6875\t2.6\t8.93333333333333\t7.11764705882353\t2\t4.71428571428571\"\"\"\n",
    "numerical_results = np.array([float(n) for n in raw_results.split(\"\\t\")])\n",
    "ground_truth_textual = ['real',\n",
    "                'real',\n",
    "                'real',\n",
    "                'fake',\n",
    "                'real',\n",
    "                'fake',\n",
    "                'real',\n",
    "                'fake',\n",
    "                'fake',\n",
    "                'real',\n",
    "                'fake',\n",
    "                'real',\n",
    "                'fake',\n",
    "                'real',\n",
    "                'real',\n",
    "                'fake',\n",
    "                'real',\n",
    "                'real',\n",
    "                'real',\n",
    "                'fake',\n",
    "                'fake',\n",
    "                'fake',\n",
    "                'fake',\n",
    "                'fake',\n",
    "                'fake',\n",
    "                'real',\n",
    "                'real',\n",
    "                'real',\n",
    "                'fake',\n",
    "                'fake',\n",
    "                'fake',\n",
    "                'fake',\n",
    "                'real',\n",
    "                'real',\n",
    "                'fake',\n",
    "                'fake',\n",
    "                'real',\n",
    "                'real',\n",
    "                'fake',\n",
    "                'real']\n",
    "ground_truth = np.array([10.0 if g == 'real' else 0.0 for g in ground_truth_textual])\n",
    "# for future reference, here are the metaphors associated with each score\n",
    "metaphor_battery = \"Leadership and Cooking - How strong is the metaphor?\tInflation and a Sinking Ship - How strong is the metaphor?\tSoccer and Nuclear Missiles - How strong is the metaphor?\tThe President and a Film Actor - How strong is the metaphor?\tA Startup Company and Rock Climbing - How strong is the metaphor?\tA Goldendoodle and a Racing Car - How strong is the metaphor?\tRestaurants and College Classes - How strong is the metaphor?\tElvis and a Museum - How strong is the metaphor?\tOlympic Athletes and Country Singer/Songwriters - How strong is the metaphor?\tVideo Games and Hallucinogenics - How strong is the metaphor?\tThe Internet and an Apartment Building - How strong is the metaphor?\tA Pension and a Friend - How strong is the metaphor?\tPolitics and Ice Hockey - How strong is the metaphor?\tMuscle Cars and Rhinoceros Beetles - How strong is the metaphor?\tNavigating an Unfamiliar Place and Long Division - How strong is the metaphor?\tMemory and Television - How strong is the metaphor?\tSkyscrapers and Pringles Chips - How strong is the metaphor?\tA City and the Human Mind - How strong is the metaphor?\tDebt and Obesity - How strong is the metaphor?\tDepartment Stores and Soccer Teams - How strong is the metaphor?\tThe Legal System and Jazz Music - How strong is the metaphor?\tClouds and Highways - How strong is the metaphor?\tAn All-Girls School and a Men's Basketball Team - How strong is the metaphor?\tBaseball Catchers and Journalists - How strong is the metaphor?\tA Film Actor and an Oil Boom Town - How strong is the metaphor?\tThe Armed Forces and an Ant Colony - How strong is the metaphor?\tCasinos and Alcohol - How strong is the metaphor?\tGraphic Design and Packing a Suitcase - How strong is the metaphor?\tMusical Albums and Sea Urchins - How strong is the metaphor?\tThe Air Force and a Hedge Fund - How strong is the metaphor?\tThe Post Office and a Telescope - How strong is the metaphor?\tAn Elementary School and a Solar Eclipse - How strong is the metaphor?\tTextbooks and Gold - How strong is the metaphor?\tWriting a Book and Running a Marathon - How strong is the metaphor?\tCanoeing and Rock Music - How strong is the metaphor?\tTraditions and Chemistry - How strong is the metaphor?\tTropical Cyclones and Bad Moods - How strong is the metaphor?\tMosquitoes and Taxes - How strong is the metaphor?\tCartoons and Attorneys - How strong is the metaphor?\tCurrency and Fashion Contests - How strong is the metaphor?\"\n",
    "metaphor_battery = metaphor_battery.split(\"\\t\")\n",
    "real_metaphors_idxs = np.where(ground_truth == 10)[0]\n",
    "results_on_real = numerical_results[real_metaphors_idxs]\n",
    "metaphor_battery_real = [metaphor_battery[i] for i in real_metaphors_idxs]\n",
    "fake_metaphors_idxs = np.where(ground_truth == 0)[0]\n",
    "results_on_fake = numerical_results[fake_metaphors_idxs]\n",
    "metaphor_battery_fake = [metaphor_battery[i] for i in fake_metaphors_idxs]"
   ]
  },
  {
   "attachments": {},
   "cell_type": "markdown",
   "metadata": {},
   "source": [
    "## The Pearson Correlation between the mean score and ground truth"
   ]
  },
  {
   "cell_type": "code",
   "execution_count": null,
   "metadata": {},
   "outputs": [
    {
     "name": "stdout",
     "output_type": "stream",
     "text": [
      "pearson_correlation =PearsonRResult(statistic=0.6654383067213117, pvalue=2.8015990134566568e-06)\n"
     ]
    }
   ],
   "source": [
    "import scipy.stats\n",
    "pearson_correlation = scipy.stats.pearsonr(ground_truth, numerical_results)\n",
    "print(f\"{pearson_correlation =}\")"
   ]
  },
  {
   "cell_type": "code",
   "execution_count": null,
   "metadata": {},
   "outputs": [
    {
     "data": {
      "text/plain": [
       "Text(0.5, 0.98, 'Average judgements assigned to real vs. fake metaphors')"
      ]
     },
     "execution_count": null,
     "metadata": {},
     "output_type": "execute_result"
    },
    {
     "data": {
      "image/png": "[encoded data removed]",
      "text/plain": [
       "<Figure size 640x480 with 1 Axes>"
      ]
     },
     "metadata": {},
     "output_type": "display_data"
    }
   ],
   "source": [
    "import matplotlib.pyplot as plt\n",
    "plt.scatter(ground_truth_textual, numerical_results)\n",
    "plt.suptitle(\"Average judgements assigned to real vs. fake metaphors\")"
   ]
  },
  {
   "attachments": {},
   "cell_type": "markdown",
   "metadata": {},
   "source": [
    "This plot shows the desired relationship pretty clearly. The audience *can* tell the difference between the average human generated metaphor and the average random \"malaphor\".\n",
    "\n",
    "Curiously, there were many human-generated metaphors that scored really low, and a few computer-generated metaphors that scored fairly high -- though, on average, no higher than six. Let's sample some of these to see what happened:"
   ]
  },
  {
   "cell_type": "code",
   "execution_count": null,
   "metadata": {},
   "outputs": [
    {
     "name": "stdout",
     "output_type": "stream",
     "text": [
      "Soccer and Nuclear Missiles - How strong is the metaphor? with score 1.14285714285714\n",
      "Skyscrapers and Pringles Chips - How strong is the metaphor? with score 2.0\n",
      "Restaurants and College Classes - How strong is the metaphor? with score 3.33333333333333\n"
     ]
    }
   ],
   "source": [
    "k = 3 # get k lowest ranked real metaphors\n",
    "min_metaphor_idx = np.argpartition(results_on_real, k)[:k]\n",
    "for mm in min_metaphor_idx:\n",
    "    print(f\"{metaphor_battery_real[mm]} with score {results_on_real[mm]}\")"
   ]
  },
  {
   "attachments": {},
   "cell_type": "markdown",
   "metadata": {},
   "source": [
    "These are admittedly pretty random. I had a specific idea in mind to relate them, but this didn't translate -- or perhaps the audience just wasn't thinking hard enough!\n",
    "\n",
    "What are the *most* well ranked metaphors?\n",
    "\n",
    "Here are the best-performing real metaphors:"
   ]
  },
  {
   "cell_type": "code",
   "execution_count": null,
   "metadata": {},
   "outputs": [
    {
     "name": "stdout",
     "output_type": "stream",
     "text": [
      "Writing a Book and Running a Marathon - How strong is the metaphor? with score 8.4\n",
      "Tropical Cyclones and Bad Moods - How strong is the metaphor? with score 8.93333333333333\n",
      "The Armed Forces and an Ant Colony - How strong is the metaphor? with score 8.8125\n"
     ]
    }
   ],
   "source": [
    "k = 3\n",
    "max_metaphor_idx = np.argpartition(results_on_real, -k)[-k:]\n",
    "for mm in max_metaphor_idx:\n",
    "    print(f\"{metaphor_battery_real[mm]} with score {results_on_real[mm]}\")"
   ]
  },
  {
   "attachments": {},
   "cell_type": "markdown",
   "metadata": {},
   "source": [
    "And here are the best-performing fake metaphors:"
   ]
  },
  {
   "cell_type": "code",
   "execution_count": null,
   "metadata": {},
   "outputs": [
    {
     "name": "stdout",
     "output_type": "stream",
     "text": [
      "Baseball Catchers and Journalists - How strong is the metaphor? with score 4.0\n",
      "Memory and Television - How strong is the metaphor? with score 4.23529411764706\n",
      "The President and a Film Actor - How strong is the metaphor? with score 6.0\n"
     ]
    }
   ],
   "source": [
    "k = 3 \n",
    "max_metaphor_idx = np.argpartition(results_on_fake, -k)[-k:]\n",
    "for mm in max_metaphor_idx:\n",
    "    print(f\"{metaphor_battery_fake[mm]} with score {results_on_fake[mm]}\")"
   ]
  },
  {
   "cell_type": "markdown",
   "metadata": {},
   "source": [
    "The last one is especially good. The dice sometimes get lucky."
   ]
  },
  {
   "attachments": {},
   "cell_type": "markdown",
   "metadata": {},
   "source": [
    "Just for fun, here are the absolute worst performing metaphors:"
   ]
  },
  {
   "cell_type": "code",
   "execution_count": null,
   "metadata": {},
   "outputs": [
    {
     "name": "stdout",
     "output_type": "stream",
     "text": [
      "An Elementary School and a Solar Eclipse - How strong is the metaphor? with score 1.52941176470588\n",
      "Musical Albums and Sea Urchins - How strong is the metaphor? with score 0.8\n",
      "Soccer and Nuclear Missiles - How strong is the metaphor? with score 1.14285714285714\n",
      "Skyscrapers and Pringles Chips - How strong is the metaphor? with score 2.0\n",
      "Department Stores and Soccer Teams - How strong is the metaphor? with score 2.0\n"
     ]
    }
   ],
   "source": [
    "k = 5\n",
    "min_metaphor_idx = np.argpartition(numerical_results, k)[:k]\n",
    "for mm in min_metaphor_idx:\n",
    "    print(f\"{metaphor_battery[mm]} with score {numerical_results[mm]}\")"
   ]
  },
  {
   "attachments": {},
   "cell_type": "markdown",
   "metadata": {},
   "source": [
    "# Future Analyses\n",
    "- [ ] Correlate the time spent in the survey with the individual metaphor fidelity\n"
   ]
  },
  {
   "cell_type": "markdown",
   "metadata": {},
   "source": []
  },
  {
   "attachments": {},
   "cell_type": "markdown",
   "metadata": {},
   "source": [
    "## Analysis on Full Results"
   ]
  },
  {
   "cell_type": "code",
   "execution_count": null,
   "metadata": {},
   "outputs": [],
   "source": [
    "import pandas as pd\n",
    "# df = pd.read_csv(\"../survey_results/pilot_results.tsv\", sep = \"\\t\")"
   ]
  }
 ],
 "metadata": {
  "kernelspec": {
   "display_name": "base",
   "language": "python",
   "name": "python3"
  }
 },
 "nbformat": 4,
 "nbformat_minor": 2
}
